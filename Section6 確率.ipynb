{
 "cells": [
  {
   "cell_type": "markdown",
   "metadata": {},
   "source": [
    "6 かくりつ"
   ]
  },
  {
   "cell_type": "markdown",
   "metadata": {},
   "source": [
    "6.1 独立と従属"
   ]
  },
  {
   "cell_type": "markdown",
   "metadata": {},
   "source": [
    "事象EとFが独立である場合、その両方が発生する確率はそれぞれの事象が発生する確率の積となる。高1かよ。  \n",
    "$P(E, S)=P(E)P(F)$"
   ]
  },
  {
   "cell_type": "markdown",
   "metadata": {},
   "source": [
    "6.2 条件付き確率"
   ]
  },
  {
   "cell_type": "markdown",
   "metadata": {},
   "source": [
    "事象EとFが独立である必要がない（かつFの起こる確率が0でない）時、「FにおけるEの条件付き確率」は以下の通り  \n",
    "$P(E\\backslash F)=P(E, F)/P(F)$  \n",
    "$\\Leftrightarrow P(E, F)=P(E\\backslash F)P(F)$  \n",
    "EとFが独立であれば  \n",
    "$P(E\\backslash F)=P(E)$"
   ]
  },
  {
   "cell_type": "markdown",
   "metadata": {},
   "source": [
    "よくある例:2人の子供がいる家族を考える  \n",
    "子供がそれぞれ男か女かである確率は等しい、2人目の子供の性別は1人目とは独立  \n",
    "このとき、「1人目が女の子である」（G）場合に「2人とも女の子である」(B)確率はどうなるか  \n",
    "BかつGはBに等しいため、  \n",
    "$P(B\\backslash G)=P(B,G)/P(G)=P(B)/P(G)=1/2$ まあそれはそう"
   ]
  },
  {
   "cell_type": "markdown",
   "metadata": {},
   "source": [
    "「少なくとも1人が女の子である」（L）場合に「2人とも女の子である」（B）確率  \n",
    "BかつLはBに等しい  \n",
    "$P(B\\backslash L)=P(B,L)/P(L)=P(B)/P(L)=1/3$  \n",
    "少なくとも1人が女の子であった場合、「男女1人ずつ」は「女子2人」の2倍、ほんまあ？"
   ]
  },
  {
   "cell_type": "code",
   "execution_count": 1,
   "metadata": {
    "collapsed": true
   },
   "outputs": [],
   "source": [
    "import random\n",
    "def random_kid():\n",
    "    return random.choice([\"boy\", \"girl\"])\n",
    "\n",
    "both_girls = 0\n",
    "older_girl = 0\n",
    "either_girl = 0\n",
    "\n",
    "random.seed(0)\n",
    "for _ in range(10000):\n",
    "    younger = random_kid()\n",
    "    older = random_kid()\n",
    "    if older == \"girl\":\n",
    "        older_girl += 1\n",
    "    if older == \"girl\" and younger == \"girl\":\n",
    "        both_girls += 1\n",
    "    if older == \"girl\" or younger == \"girl\":\n",
    "        either_girl += 1"
   ]
  },
  {
   "cell_type": "code",
   "execution_count": 2,
   "metadata": {},
   "outputs": [
    {
     "name": "stdout",
     "output_type": "stream",
     "text": [
      "P(2人とも女|1人目が女): 0.5007089325501317\n"
     ]
    }
   ],
   "source": [
    "print(\"P(2人とも女|1人目が女):\",both_girls/older_girl)"
   ]
  },
  {
   "cell_type": "code",
   "execution_count": 3,
   "metadata": {},
   "outputs": [
    {
     "name": "stdout",
     "output_type": "stream",
     "text": [
      "P(2人とも女|どちらか1人が女): 0.3311897106109325\n"
     ]
    }
   ],
   "source": [
    "print(\"P(2人とも女|どちらか1人が女):\",both_girls/either_girl)"
   ]
  },
  {
   "cell_type": "markdown",
   "metadata": {},
   "source": [
    "ほんまほんま"
   ]
  },
  {
   "cell_type": "markdown",
   "metadata": {},
   "source": [
    "6.3 ベイズの定理"
   ]
  },
  {
   "cell_type": "markdown",
   "metadata": {},
   "source": [
    "Fが発生した状況でそれとは独立の事象Eが起きる確率を求めたいが、Eが発生した状況でFが起きる確率のみが既知  \n",
    "$P(E\\backslash F)=P(E, F)/P(F)=P(F\\backslash E)P(E)/P(F)$  \n",
    "($P(E, F)=P(F\\backslash E)P(E)$  )"
   ]
  },
  {
   "cell_type": "markdown",
   "metadata": {},
   "source": [
    "ここで、事象Fを相互に排他的な2つの事象「FかつE」と「Fかつnot E」に分割する  \n",
    "$P(F)=P(F,E)+P(F,\\lnot E)$"
   ]
  },
  {
   "cell_type": "markdown",
   "metadata": {},
   "source": [
    "すると、以上2つの式より  \n",
    "$P(E\\backslash F)=P(F\\backslash E)P(E)/[P(F \\backslash E)P(E)+P(F\\backslash \\lnot E)P(\\lnot E)]$"
   ]
  },
  {
   "cell_type": "markdown",
   "metadata": {},
   "source": [
    "使用例:10000人に1人が発症する病気があり、99%の正確さで検出できる検査薬があるとする。このとき検査の陽性が意味することは何か  \n",
    "「検査が陽性である」事象をT、「疾患を持っている」事象をDとする。ベイズの定理では検査が陽性であった時疾患を持っている確率は  \n",
    "$P(D\\backslash T)=P(T\\backslash D)P(D)/[P(T\\backslash D)P(D)+P(T\\backslash \\lnot D)P(\\lnot D)]$"
   ]
  },
  {
   "cell_type": "markdown",
   "metadata": {},
   "source": [
    "今、$P(T\\backslash D)=0.99$、$P(D)=0.0001$、$P(\\lnot D)=0.9999$、$P(T\\backslash \\lnot D)=0.01$が分かっている。これを上の式に代入すると、  \n",
    "$P(D\\backslash T)=0.98\\%$"
   ]
  },
  {
   "cell_type": "markdown",
   "metadata": {},
   "source": [
    "つまり陽性が出た人が実際に病気持ちの確率は1%以下"
   ]
  },
  {
   "cell_type": "markdown",
   "metadata": {},
   "source": [
    "6.4 確率変数"
   ]
  },
  {
   "cell_type": "markdown",
   "metadata": {},
   "source": [
    "あとで"
   ]
  },
  {
   "cell_type": "markdown",
   "metadata": {},
   "source": [
    "6.5 連続確率分布"
   ]
  },
  {
   "cell_type": "code",
   "execution_count": 4,
   "metadata": {
    "collapsed": true
   },
   "outputs": [],
   "source": [
    "def uniform_pdf(x): #一様分布の密度関数\n",
    "    return 1 if x >= 0 and x < 1 else 0"
   ]
  },
  {
   "cell_type": "code",
   "execution_count": 5,
   "metadata": {},
   "outputs": [],
   "source": [
    "def uniform_cdf(x): #一様分布の累積分布関数\n",
    "    \"\"\"return the probability that a uniform random variable is <= x\"\"\"\n",
    "    if x < 0:return 0\n",
    "    elif x < 1:return x\n",
    "    else: return 1"
   ]
  },
  {
   "cell_type": "code",
   "execution_count": 6,
   "metadata": {
    "collapsed": true
   },
   "outputs": [],
   "source": [
    "import numpy as np\n",
    "from matplotlib import pyplot as plt\n",
    "%matplotlib inline"
   ]
  },
  {
   "cell_type": "code",
   "execution_count": 7,
   "metadata": {},
   "outputs": [],
   "source": [
    "xs = np.linspace(-1, 2, 1000)"
   ]
  },
  {
   "cell_type": "code",
   "execution_count": 8,
   "metadata": {},
   "outputs": [
    {
     "data": {
      "image/png": "[encoded data removed]",
      "text/plain": [
       "<matplotlib.figure.Figure at 0x2349941d828>"
      ]
     },
     "metadata": {},
     "output_type": "display_data"
    }
   ],
   "source": [
    "ys = [uniform_cdf(xs[i]) for i in range(len(xs))]\n",
    "plt.plot(xs, ys)\n",
    "plt.axis([-1.0, 2.0, -0.5, 1.5])\n",
    "plt.title(\"The uniform cdf\")\n",
    "plt.show()"
   ]
  },
  {
   "cell_type": "markdown",
   "metadata": {},
   "source": [
    "6.6 正規分布"
   ]
  },
  {
   "cell_type": "markdown",
   "metadata": {},
   "source": [
    "いつもの  \n",
    "確率密度関数は次の式  \n",
    "$f(x|\\mu,\\sigma)=\\frac{1}{\\sigma \\sqrt{2\\pi}}exp(-\\frac{(x-\\mu)^2}{2\\sigma^2})$"
   ]
  },
  {
   "cell_type": "code",
   "execution_count": 9,
   "metadata": {
    "collapsed": true
   },
   "outputs": [],
   "source": [
    "import math\n",
    "def normal_pdf(x, mu=0, sigma=1):\n",
    "    sqrt_two_pi = math.sqrt(2*math.pi)\n",
    "    return (math.exp(-(x-mu)**2/2/sigma**2)/(sqrt_two_pi*sigma))"
   ]
  },
  {
   "cell_type": "code",
   "execution_count": 10,
   "metadata": {},
   "outputs": [
    {
     "data": {
      "image/png": "[encoded data removed]",
      "text/plain": [
       "<matplotlib.figure.Figure at 0x2349944efd0>"
      ]
     },
     "metadata": {},
     "output_type": "display_data"
    }
   ],
   "source": [
    "xs = [x/10.0 for x in range(-50,50)]\n",
    "plt.plot(xs, [normal_pdf(x, sigma=1) for x in xs], '-', label=\"mu=0,sigma=1\")\n",
    "plt.plot(xs, [normal_pdf(x, sigma=2) for x in xs], '--', label=\"mu=0,sigma=2\")\n",
    "plt.plot(xs, [normal_pdf(x, sigma=0.5) for x in xs], ':', label=\"mu=0,sigma=0.5\")\n",
    "plt.plot(xs, [normal_pdf(x, mu=-1) for x in xs], '-.', label=\"mu=-1,sigma=1\")\n",
    "plt.legend()\n",
    "plt.title(\"Various Normal pdfs\")\n",
    "plt.show()"
   ]
  },
  {
   "cell_type": "markdown",
   "metadata": {},
   "source": [
    "$\\mu=0,\\sigma=1$の場合を標準正規分布と呼ぶ。$Z$が標準正規分布に従う確率変数であった場合、  \n",
    "$X=\\sigma Z+\\mu$  \n",
    "の確率変数$X$は平均$\\mu$、標準偏差$\\sigma$の正規分布となる  \n",
    "逆にXが平均$\\mu$、標準偏差$\\sigma$の正規分布に従う確率変数であるなら、  \n",
    "$Z=(X-\\mu)/\\sigma$  \n",
    "$Z$は標準正規分布に従う"
   ]
  },
  {
   "cell_type": "code",
   "execution_count": 11,
   "metadata": {
    "collapsed": true
   },
   "outputs": [],
   "source": [
    "def normal_cdf(x, mu=0, sigma=1):\n",
    "    return (1+math.erf((x-mu)/math.sqrt(2)/sigma))/2"
   ]
  },
  {
   "cell_type": "code",
   "execution_count": 12,
   "metadata": {},
   "outputs": [
    {
     "data": {
      "image/png": "[encoded data removed]",
      "text/plain": [
       "<matplotlib.figure.Figure at 0x23499cb5400>"
      ]
     },
     "metadata": {},
     "output_type": "display_data"
    }
   ],
   "source": [
    "xs = [x/10.0 for x in range(-50,50)]\n",
    "plt.plot(xs, [normal_cdf(x, sigma=1)  for x in xs], '-', label=\"mu=0,sigma=1\")\n",
    "plt.plot(xs, [normal_cdf(x, sigma=2)  for x in xs], '--', label=\"mu=0,sigma=2\")\n",
    "plt.plot(xs, [normal_cdf(x, sigma=0.5)  for x in xs], ':', label=\"mu=0,sigma=0.5\")\n",
    "plt.plot(xs, [normal_cdf(x, mu=-1)  for x in xs], '-.', label=\"mu=-1,sigma=1\")\n",
    "plt.legend(loc=4) #凡例は右下\n",
    "plt.title(\"Various Normal cdfs\")\n",
    "plt.show()"
   ]
  },
  {
   "cell_type": "code",
   "execution_count": 13,
   "metadata": {
    "collapsed": true
   },
   "outputs": [],
   "source": [
    "def inverse_normal_cdf(p, mu=0, sigma=1, tol=0.00001):\n",
    "    \"\"\"二分探索を用いて逆関数の近似値を計算する\"\"\"\n",
    "    \n",
    "    #標準正規分布でない場合、標準正規分布からの差分を求める\n",
    "    if mu != 0 or sigma != 1 :\n",
    "        return mu + sigma * inverse_normal_cdf(p, tol = tol)\n",
    "    \n",
    "    low_z, low_p = -10.0, 0 #normal_cdf(-10)は0に近い値である\n",
    "    hi_z, hi_p = 10.0, 1 #normal_cdf(10)は1に近い値である\n",
    "    while hi_z - low_z > tol:\n",
    "        mid_z = (low_z+hi_z)/2\n",
    "        mid_p = normal_cdf(mid_z)\n",
    "        \n",
    "        if mid_p < p:\n",
    "            #中央値はまだ小さいので、さらに上を使う\n",
    "            low_z, low_p = mid_z, mid_p\n",
    "        elif mid_p > p:\n",
    "            #中央値はまだ大きいので、さらに下を使う\n",
    "            hi_z, hi_p = mid_z, mid_p\n",
    "        else:\n",
    "            break\n",
    "            \n",
    "    return mid_z"
   ]
  },
  {
   "cell_type": "code",
   "execution_count": 14,
   "metadata": {},
   "outputs": [
    {
     "data": {
      "text/plain": [
       "1.2815570831298828"
      ]
     },
     "execution_count": 14,
     "metadata": {},
     "output_type": "execute_result"
    }
   ],
   "source": [
    "inverse_normal_cdf(0.9)"
   ]
  },
  {
   "cell_type": "markdown",
   "metadata": {},
   "source": [
    "6.7 中心極限定理"
   ]
  },
  {
   "cell_type": "markdown",
   "metadata": {},
   "source": [
    "非常に多数の独立で同一の分布に従う確率変数の平均として定義される確率変数は、おおよそ正規分布になる、というもの  \n",
    "平均$\\mu$、標準偏差$\\sigma$の確率変数$x_1,...,x_n$があるとする。このとき  \n",
    "$\\frac{1}{n}(x_1+...+x_n)$  \n",
    "はおおよそ平均$\\mu$、標準偏差$\\sigma/\\sqrt{n}$の正規分布となる"
   ]
  },
  {
   "cell_type": "markdown",
   "metadata": {},
   "source": [
    "次の式は平均0、標準偏差1の正規分布  \n",
    "$\\frac{(x_1+...+x_n)-\\mu n}{\\sigma \\sqrt{n}}$"
   ]
  },
  {
   "cell_type": "markdown",
   "metadata": {},
   "source": [
    "これを説明するには、nとpで表される二項確率変数を確認する。確率pで1、(1-p)で0となるn個の独立した確率変数Bernoulli(p)を合計したものがBernoulli(n, p)確率変数。"
   ]
  },
  {
   "cell_type": "code",
   "execution_count": 15,
   "metadata": {
    "collapsed": true
   },
   "outputs": [],
   "source": [
    "import random\n",
    "def bernoulli_trial(p):\n",
    "    return 1 if random.random() < p else 0"
   ]
  },
  {
   "cell_type": "code",
   "execution_count": 16,
   "metadata": {
    "collapsed": true
   },
   "outputs": [],
   "source": [
    "def binomial(n, p):\n",
    "    return sum(bernoulli_trial(p) for _ in range(n))"
   ]
  },
  {
   "cell_type": "code",
   "execution_count": 17,
   "metadata": {
    "collapsed": true
   },
   "outputs": [],
   "source": [
    "from collections import Counter\n",
    "def make_hist(p, n, num_points):\n",
    "    data = [binomial(n, p) for _ in range(num_points)]\n",
    "    \n",
    "    #二項分布を棒グラフでプロットする\n",
    "    histogram = Counter(data)\n",
    "    plt.bar([x-0.4 for x in histogram.keys()],\n",
    "           [v/num_points for v in histogram.values()],\n",
    "           0.8,\n",
    "           color='0.75')\n",
    "    mu = p * n\n",
    "    sigma = math.sqrt(n * p *(1-p))\n",
    "    \n",
    "    xs = range(min(data), max(data)+1)\n",
    "    ys = [normal_cdf(i+0.5,mu,sigma)-normal_cdf(i-0.5,mu,sigma) for i in xs]\n",
    "    plt.plot(xs, ys)\n",
    "    plt.title(\"Binomial Distribution vs Normal Approximation\")\n",
    "    plt.show()"
   ]
  },
  {
   "cell_type": "code",
   "execution_count": 18,
   "metadata": {},
   "outputs": [
    {
     "data": {
      "image/png": "[encoded data removed]",
      "text/plain": [
       "<matplotlib.figure.Figure at 0x23499c98cf8>"
      ]
     },
     "metadata": {},
     "output_type": "display_data"
    }
   ],
   "source": [
    "make_hist(0.75,100,10000)"
   ]
  },
  {
   "cell_type": "code",
   "execution_count": 19,
   "metadata": {
    "scrolled": true
   },
   "outputs": [
    {
     "data": {
      "image/png": "[encoded data removed]",
      "text/plain": [
       "<matplotlib.figure.Figure at 0x23499e15c18>"
      ]
     },
     "metadata": {},
     "output_type": "display_data"
    }
   ],
   "source": [
    "make_hist(0.5,100,10000)"
   ]
  },
  {
   "cell_type": "markdown",
   "metadata": {},
   "source": [
    "ちゃんとした復習"
   ]
  },
  {
   "cell_type": "markdown",
   "metadata": {},
   "source": [
    "様々な値を確率的にとる変数を確率変数（random variable）という  \n",
    "  \n",
    "確率変数$X$が離散的な値を取る時、$X$を離散確率変数という。  \n",
    "$X$がある値$x$をとる確率を表した関数$f(x)=Pr(X=x)$を確率関数という  \n",
    "$0\\leq f(x)\\leq1,\\sum_xf(x)=1$"
   ]
  },
  {
   "cell_type": "code",
   "execution_count": null,
   "metadata": {
    "collapsed": true
   },
   "outputs": [],
   "source": []
  }
 ],
 "metadata": {
  "kernelspec": {
   "display_name": "Python 3",
   "language": "python",
   "name": "python3"
  },
  "language_info": {
   "codemirror_mode": {
    "name": "ipython",
    "version": 3
   },
   "file_extension": ".py",
   "mimetype": "text/x-python",
   "name": "python",
   "nbconvert_exporter": "python",
   "pygments_lexer": "ipython3",
   "version": "3.5.3"
  }
 },
 "nbformat": 4,
 "nbformat_minor": 1
}
